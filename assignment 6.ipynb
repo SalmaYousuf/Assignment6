{
 "cells": [
  {
   "cell_type": "code",
   "execution_count": 20,
   "id": "c43a5c7c-7e92-40da-8b41-b8c7a622f30f",
   "metadata": {},
   "outputs": [
    {
     "name": "stdout",
     "output_type": "stream",
     "text": [
      "Charging the electric vehicle.\n",
      "Filling up the gasoline tank.\n",
      "Driving the hybrid car.\n"
     ]
    }
   ],
   "source": [
    "\"\"\"Question 1:\n",
    "In a transportation system, we have two classes:\n",
    " ElectricVehicle:\n",
    "A class that has a method charge() to charge the vehicle. \n",
    " GasolineVehicle: \n",
    "A class that has a method fuel_up() to refuel the vehicle.\n",
    "\n",
    "Create a class HybridCar that inherits from both ElectricVehicle and GasolineVehicle. The HybridCar \n",
    "class should have a method drive() that prints a message showing the car is being driven. Instantiate \n",
    "an object of class HybridCar and demonstrate the usage of charge(), fuel_up(), and drive().\n",
    "Expected Output: \n",
    " Charging the electric vehicle. \n",
    " Filling up the gasoline tank.\n",
    " Driving the hybrid car.\n",
    "\"\"\"\n",
    "\n",
    "class ElectricVehicle:\n",
    "    def charge(self):\n",
    "        print(f\"Charging the electric vehicle.\")\n",
    "\n",
    "class  GasolineVehicle: \n",
    "    def fuel_up(self):\n",
    "        print(f\"Filling up the gasoline tank.\")\n",
    "\n",
    "class HybridCar(ElectricVehicle,GasolineVehicle):\n",
    "    def drive(self):\n",
    "        print(f\"Driving the hybrid car.\")\n",
    "              \n",
    "hybrid_car = HybridCar() \n",
    "hybrid_car.charge()\n",
    "hybrid_car.fuel_up()\n",
    "hybrid_car.drive()\n"
   ]
  },
  {
   "cell_type": "code",
   "execution_count": 176,
   "id": "ead697c6-2da4-4470-a049-dbd5325c7732",
   "metadata": {},
   "outputs": [
    {
     "name": "stdout",
     "output_type": "stream",
     "text": [
      "Animal makes a sound...\n",
      "Roar.\n",
      "Animal makes a sound...\n",
      "Meow.\n"
     ]
    }
   ],
   "source": [
    "\"\"\"Question 2:\n",
    "Create a class Animal with a method make_sound(), \n",
    "which prints \"Animal makes a sound\". Then, \n",
    "create two subclasses: \n",
    " Lion: Override the make_sound() method to print \"Roar\". \n",
    " Cat: Override the make_sound() method to print \"Meow\".\n",
    "Demonstrate polymorphism by calling make_sound() on instances of Lion and Cat.\n",
    "\"\"\"\n",
    "\n",
    "class Animal:\n",
    "    def make_sound(self):\n",
    "        print(f\"Animal makes a sound...\")\n",
    "\n",
    "class Lion(Animal): \n",
    "    def make_sound1(self):\n",
    "        super().make_sound()\n",
    "        print(f\"Roar.\")\n",
    "\n",
    "class Cat(Animal):\n",
    "    def make_sound2(self):\n",
    "        super().make_sound()\n",
    "        print(f\"Meow.\")\n",
    "\n",
    "Lion =Lion()\n",
    "Cat =Cat()\n",
    "Lion.make_sound1()\n",
    "Cat. make_sound2()\n"
   ]
  },
  {
   "cell_type": "code",
   "execution_count": null,
   "id": "63e25045-db28-4531-8896-88046337da3d",
   "metadata": {},
   "outputs": [],
   "source": [
    "\"\"\"Question 3:\n",
    "Create an abstract class SmartHomeDevice with two abstract methods: \n",
    " turn_on() (to turn the device on)\n",
    " turn_off() (to turn the device off)\n",
    "Then, create a Light class that inherits from SmartHomeDevice.\n",
    "Implement the methods turn_on() \n",
    "and turn_off() for a light device. \n",
    "The turn_on() method should print \"Light is ON\", and the turn_off() \n",
    "method should print \"Light is OFF\".\n",
    "Write a Python program to control the light device in a smart home.\n",
    "Expected Output:  Turning on the light... \n",
    " Light is ON\n",
    " Turning off the light... \n",
    "\"\"\""
   ]
  },
  {
   "cell_type": "code",
   "execution_count": 1,
   "id": "1495ee71-781d-4752-b3d7-15067a38f9da",
   "metadata": {},
   "outputs": [
    {
     "name": "stdout",
     "output_type": "stream",
     "text": [
      "Turning on the light...\n",
      "Light is ON\n",
      "Turning off the light...\n",
      "Light is OFF\n"
     ]
    }
   ],
   "source": [
    "class SmartHomeDevice:\n",
    "    def device(self):\n",
    "        print(f\"Light\" )\n",
    "             \n",
    "    \n",
    "class Light(SmartHomeDevice):\n",
    "    def turn_on(self):\n",
    "        print(f\"Turning on the light...\")\n",
    "        print(f\"Light is ON\")\n",
    "\n",
    "    def turn_off(self):\n",
    "        print(f\"Turning off the light...\")\n",
    "        print(f\"Light is OFF\")\n",
    "    \n",
    "\n",
    "\n",
    "light = Light()\n",
    "light.turn_on()\n",
    "light.turn_off()\n",
    "\n",
    "\n",
    "\n",
    "        "
   ]
  },
  {
   "cell_type": "code",
   "execution_count": 5,
   "id": "a1662e70-39ee-45e9-a107-54e8ab939e66",
   "metadata": {},
   "outputs": [
    {
     "name": "stdout",
     "output_type": "stream",
     "text": [
      "Hello!\n",
      "Hello John.\n",
      "Good morning  John!.\n"
     ]
    }
   ],
   "source": [
    "\"\"\"Question 4:\n",
    "Create a class Greeting with a method greet() that can handle different numbers of arguments.\n",
    " If no argument is passed, it should print \"Hello!\". \n",
    " If one argument (a name) is passed, it should print \"Hello, !\". \n",
    " If two arguments (a name and a greeting) are passed, it should print the greeting with the \n",
    "name (e.g., \"Good morning, !\").\n",
    "Simulate method overloading using default arguments or variable-length arguments, and \n",
    "demonstrate the polymorphic behavior by calling greet() with different numbers of arguments.\n",
    "Expected Output:\n",
    " Hello! \n",
    " Hello, John! \n",
    " Good morning, John!\n",
    "\"\"\"\n",
    "\n",
    "class Greeting:\n",
    "    def greet(self,*greetings):\n",
    "        if len(greetings) == 0:\n",
    "            print(\"Hello!\")\n",
    "        elif len(greetings) == 1:\n",
    "            print(f\"Hello {greetings[0]}.\")\n",
    "        elif len(greetings) == 2:\n",
    "            print(f\"{greetings[1]} {greetings[0]}!.\")\n",
    "        else:\n",
    "            print(\"put argument\")\n",
    "\n",
    "arg= Greeting()\n",
    "arg.greet()\n",
    "arg.greet(\"John\")\n",
    "arg.greet(\" John\",\"Good morning\")  "
   ]
  },
  {
   "cell_type": "code",
   "execution_count": 12,
   "id": "93a4425f-4f9a-42f8-b26f-dce5ea7b1f68",
   "metadata": {},
   "outputs": [
    {
     "name": "stdout",
     "output_type": "stream",
     "text": [
      "Car Name: Nissan\n",
      "Price per day: 150\n",
      "Rentel days : 7\n",
      "Total rental cost: $ 1050\n"
     ]
    }
   ],
   "source": [
    "\"\"\"Question 5:\n",
    "Create a class CarRental to manage the rental of cars.\n",
    " The class should have private attributes for the car's name, price per day, and the number of \n",
    "rental days.\n",
    " Create a method to calculate the total rental cost and a method to set the rental days. \n",
    " Use getter and setter methods for modifying and accessing the car's information.\n",
    "Demonstrate encapsulation by creating an object of CarRental and calculating the total rental cost.\n",
    "Expected Output: \n",
    " Car Name: Toyota Camry\n",
    " Price Per Day: $50\n",
    " Rental Days: 5\n",
    " Total Rental Cost: $250\n",
    "\"\"\"\n",
    "\n",
    "\n",
    "class CarRental:\n",
    "    def __init__(self,name,price_per_day,rental_days):\n",
    "        self.name =name\n",
    "        self.price_per_day = price_per_day\n",
    "        self.rental_days = 0\n",
    "\n",
    "    def get_name(self):\n",
    "        return self.name\n",
    "\n",
    "    def set_name(self,name):\n",
    "         self.name =name\n",
    "        \n",
    "    def get_price_per_day(self):\n",
    "       return self.price_per_day\n",
    "\n",
    "    def set_price_per(self,price_per_day):\n",
    "        self._price_per_day =price_per_day\n",
    "\n",
    "    def get_rental_days(self):\n",
    "        return self.rental_days\n",
    "\n",
    "    def set_rental_days(self,days):\n",
    "       if days > 0:\n",
    "           self.rental_days = days\n",
    "       else:\n",
    "           (\"Type Rental days start from 1\")\n",
    "\n",
    "    def calculate_total_cost(self):\n",
    "        return self.price_per_day * self.rental_days \n",
    "\n",
    "car =CarRental(\"Nissan\" , 150,7 )\n",
    "car.set_rental_days(7)\n",
    "print(\"Car Name:\" ,car.get_name())\n",
    "print(\"Price per day:\",car.get_price_per_day())\n",
    "print(\"Rentel days :\" ,car.get_rental_days())\n",
    "\n",
    "Total_Cost =car.calculate_total_cost()\n",
    "print(\"Total rental cost: $\",Total_Cost)\n",
    "\n",
    "\n",
    "\n",
    "\n"
   ]
  },
  {
   "cell_type": "code",
   "execution_count": null,
   "id": "4100ce43-1e0d-46ae-b3a7-0ee1a14f8288",
   "metadata": {},
   "outputs": [],
   "source": []
  },
  {
   "cell_type": "code",
   "execution_count": null,
   "id": "950e1530-a9a9-4655-99f6-3e6af066d9b8",
   "metadata": {},
   "outputs": [],
   "source": []
  }
 ],
 "metadata": {
  "kernelspec": {
   "display_name": "Python [conda env:base] *",
   "language": "python",
   "name": "conda-base-py"
  },
  "language_info": {
   "codemirror_mode": {
    "name": "ipython",
    "version": 3
   },
   "file_extension": ".py",
   "mimetype": "text/x-python",
   "name": "python",
   "nbconvert_exporter": "python",
   "pygments_lexer": "ipython3",
   "version": "3.12.7"
  }
 },
 "nbformat": 4,
 "nbformat_minor": 5
}
